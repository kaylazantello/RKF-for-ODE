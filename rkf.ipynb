{
 "cells": [
  {
   "cell_type": "markdown",
   "source": [
    "# Project 2: Runge-Kutta Fehlberg for ODE\n",
    "Kayla Zantello and Lucio Infante\n",
    "\n",
    "This program calculates and plots the solution to an ordinary differential equation using the Runge-Kutta-Fehlberg method, as well as the odeint function, then compares the results.\n",
    "### Packages used\n",
    "1. NumPy  \n",
    "2. SciPy  \n",
    "3. Matplotlib  \n",
    "4. Jupyter\n",
    "\n",
    "### Approach to implementation\n",
    "##### ODE to be solved:\n",
    "$$\n",
    "f(x, y) = y' = \\frac{y}{e^x - 1}\n",
    "$$\n",
    "with initial conditionals $ x_0 = 1, y_0 = 5 $ and step size $ h = 0.02 $\n",
    "##### Part 1\n",
    "Use a for loop to calculate the k values and apply them to the recurrence formulas, starting with the initial conditionals. Loop will calculate x and y values for 1000 iterations.\n",
    "##### Part 2\n",
    "Use SciPy.integrate's odeint function to plot solution using the initial conditionals and model function that returns the solution to the equation shown above.\n",
    "\n",
    "See comments for further explanation."
   ],
   "metadata": {
    "collapsed": false,
    "pycharm": {
     "name": "#%% md\n"
    }
   }
  },
  {
   "cell_type": "markdown",
   "source": [
    "## Part 1 - Solve using RKF\n",
    "The Runge-Kutta-Fehlberg method is a fourth order approximation.\n",
    "\n",
    "For an ODE\n",
    "$$\n",
    "\\frac{dy}{dx} = f(x, y)\n",
    "$$\n",
    "with initial conditionals $ x = x_0, y = y_0 $ and step size $ h $, the recurrence formulas are,\n",
    "$$\n",
    "x_{n+1} = x_n + h\n",
    "$$\n",
    "$$\n",
    "y_{n+1} = y_n + \\frac{h}{6}(k_1 + 2k_2 + 2k_3 + k_4)\n",
    "$$\n",
    "where,\n",
    "$$\n",
    "k_1 = f(x, y)\n",
    "$$\n",
    "$$\n",
    "k_2 = f(x + \\frac{h}{2}, y + \\frac{h}{2}k_1)\n",
    "$$\n",
    "$$\n",
    "k_3 = f(x + \\frac{h}{2}, y + \\frac{h}{2}k_2)\n",
    "$$\n",
    "$$\n",
    "k_4 = f(x + h, y + hk_3)\n",
    "$$"
   ],
   "metadata": {
    "collapsed": false,
    "pycharm": {
     "name": "#%% md\n"
    }
   }
  },
  {
   "cell_type": "code",
   "execution_count": 21,
   "outputs": [
    {
     "data": {
      "text/plain": "<Figure size 432x288 with 1 Axes>",
      "image/png": "[encoded data removed]"
     },
     "metadata": {
      "needs_background": "light"
     },
     "output_type": "display_data"
    },
    {
     "name": "stdout",
     "output_type": "stream",
     "text": [
      "Computational Time - RKF:\n",
      "0.08523710002191365\n"
     ]
    }
   ],
   "source": [
    "# import necessary packages\n",
    "import numpy as np  # import numpy under the name np\n",
    "from scipy.integrate import odeint  # import the odeint function from scipy integrate package\n",
    "import matplotlib.pyplot as plt  # import matplotlib pyplot package under the name plt\n",
    "import timeit  # import timeit package to calculate computational time\n",
    "\n",
    "# record time at start of program\n",
    "startRKF = timeit.default_timer()\n",
    "\n",
    "# define initial conditionals\n",
    "x0 = 1\n",
    "y0 = 5\n",
    "\n",
    "# define step size\n",
    "h = 0.02\n",
    "\n",
    "# initialize lists for values of x and y\n",
    "x = []\n",
    "y = []\n",
    "\n",
    "# insert each initial conditional into its respective list\n",
    "x.append(x0)\n",
    "y.append(y0)\n",
    "\n",
    "# define ODE to solve\n",
    "def func(xi, yi):\n",
    "    # return value of y'\n",
    "    return yi / (np.exp(xi) - 1)\n",
    "\n",
    "# define range of n for the solutions (xn, yn) of the ODE\n",
    "myRange = range(0, 1000)  # program will use RKF method to calculate solutions (x0, y0) to (x1000, y1000)\n",
    "\n",
    "for n in myRange:\n",
    "    # first, calculate k1, k2, k3, k4\n",
    "    k1 = func(x[n], y[n])\n",
    "    k2 = func(x[n] + h/2, y[n] + h/2 * k1)\n",
    "    k3 = func(x[n] + h/2, y[n] + h/2 * k2)\n",
    "    k4 = func(x[n] + h, y[n] + h * k3)\n",
    "\n",
    "    # next, apply k values to recurrence formula\n",
    "    x.append(x[n] + h)\n",
    "    y.append(y[n] + (h/6)*(k1 + 2*k2 + 2*k3 + k4))\n",
    "\n",
    "# plot the results\n",
    "plt.plot(x, y)\n",
    "plt.title(\"RKF Solution\")\n",
    "plt.xlabel(\"x\")\n",
    "plt.ylabel(\"y\")\n",
    "plt.show()\n",
    "\n",
    "# record the time at the end of the program\n",
    "endRFK = timeit.default_timer()\n",
    "\n",
    "# display the computational time of the program\n",
    "print(\"Computational Time - RKF:\")\n",
    "print(endRFK - startRKF)\n"
   ],
   "metadata": {
    "collapsed": false,
    "pycharm": {
     "name": "#%%\n"
    }
   }
  },
  {
   "cell_type": "markdown",
   "source": [
    "## Part 2 - Solve using ODEINT\n",
    "SciPy.integrate's odeint function takes in a model function, an initial condition for y, and an array of x-values to report the solution at."
   ],
   "metadata": {
    "collapsed": false,
    "pycharm": {
     "name": "#%% md\n"
    }
   }
  },
  {
   "cell_type": "code",
   "execution_count": 22,
   "outputs": [
    {
     "data": {
      "text/plain": "<Figure size 432x288 with 1 Axes>",
      "image/png": "[encoded data removed]"
     },
     "metadata": {
      "needs_background": "light"
     },
     "output_type": "display_data"
    },
    {
     "name": "stdout",
     "output_type": "stream",
     "text": [
      "Computational Time - ODEINT:\n",
      "0.2399663000833243\n"
     ]
    }
   ],
   "source": [
    "# record time at start of program\n",
    "startODEINT = timeit.default_timer()\n",
    "\n",
    "# define function to calculate given derivative\n",
    "def model(yi, xi):\n",
    "    return yi / (np.exp(xi) - 1)\n",
    "\n",
    "# create array for x values to report solution at - 1000 values from 1 to 21 to mimic part 1\n",
    "xr = np.linspace(1, 21, 1000)\n",
    "\n",
    "# assign initial condition for y\n",
    "yinit = 5.0\n",
    "\n",
    "# solve ODE\n",
    "ys = odeint(model, yinit, xr)\n",
    "\n",
    "timeit.timeit('\"-\".join(str(n) for n in range(100))', number=10000)\n",
    "\n",
    "# plot the results\n",
    "plt.plot(xr, ys, \"orange\")\n",
    "plt.title(\"ODEINT Solution\")\n",
    "plt.xlabel(\"x\")\n",
    "plt.ylabel(\"y\")\n",
    "plt.show()\n",
    "\n",
    "# record time at end of program\n",
    "endODEINT = timeit.default_timer()\n",
    "\n",
    "# display the computational time of the program\n",
    "print(\"Computational Time - ODEINT:\")\n",
    "print(endODEINT - startODEINT)"
   ],
   "metadata": {
    "collapsed": false,
    "pycharm": {
     "name": "#%%\n"
    }
   }
  },
  {
   "cell_type": "markdown",
   "source": [
    "## Plotting solutions of both methods together\n",
    "Solutions from parts 1 and 2 are plotted together here to show the accuracy of the RKF method."
   ],
   "metadata": {
    "collapsed": false,
    "pycharm": {
     "name": "#%% md\n"
    }
   }
  },
  {
   "cell_type": "code",
   "execution_count": 23,
   "outputs": [
    {
     "data": {
      "text/plain": "<Figure size 432x288 with 1 Axes>",
      "image/png": "[encoded data removed]"
     },
     "metadata": {
      "needs_background": "light"
     },
     "output_type": "display_data"
    }
   ],
   "source": [
    "# shrink array of x values to report solution at from 1000 values to 60 for easier viewing\n",
    "arr1 = np.linspace(1, 3.5, 25)\n",
    "arr2 = np.linspace(3.5, 21, 35)\n",
    "xr = np.append(arr1, arr2)\n",
    "\n",
    "# solve ODE using new xr array\n",
    "ys = odeint(model, yinit, xr)\n",
    "\n",
    "# plot the results\n",
    "plt.plot(x, y, label = \"RKF\")  # plot solution from part 1 (RKF)\n",
    "plt.plot(xr, ys, '.', label = \"ODEINT\")  # plot solution from part 2 (odeint)\n",
    "plt.title(\"Comparing RKF and ODEINT Solutions\")\n",
    "plt.xlabel(\"x\")\n",
    "plt.ylabel(\"y\")\n",
    "plt.legend()  # display legend for methods\n",
    "plt.show()"
   ],
   "metadata": {
    "collapsed": false,
    "pycharm": {
     "name": "#%%\n"
    }
   }
  },
  {
   "cell_type": "markdown",
   "source": [
    "## RKF True Solutions\n",
    "Solutions for n = 0 through n = 5 that were used as the true solution in the documentation"
   ],
   "metadata": {
    "collapsed": false,
    "pycharm": {
     "name": "#%% md\n"
    }
   }
  },
  {
   "cell_type": "code",
   "execution_count": 24,
   "outputs": [
    {
     "name": "stdout",
     "output_type": "stream",
     "text": [
      "x0: 1\n",
      "y0: 5\n",
      " \n",
      "x1: 1.02\n",
      "y1: 5.057619554621473\n",
      " \n",
      "x2: 1.04\n",
      "y2: 5.114098165612232\n",
      " \n",
      "x3: 1.06\n",
      "y3: 5.169458425170396\n",
      " \n",
      "x4: 1.08\n",
      "y4: 5.22372247813853\n",
      " \n",
      "x5: 1.1\n",
      "y5: 5.276912030861883\n",
      " \n"
     ]
    }
   ],
   "source": [
    "# create array of integers 0 through 5\n",
    "truesols = range(0, 6)\n",
    "\n",
    "# print true solution for each (xn, yn)\n",
    "for i in truesols:\n",
    "    print(\"x\" + str(i) + \": \" + str(x[i]))\n",
    "    print(\"y\" + str(i) + \": \" + str(y[i]))\n",
    "    print(\" \")"
   ],
   "metadata": {
    "collapsed": false,
    "pycharm": {
     "name": "#%%\n"
    }
   }
  }
 ],
 "metadata": {
  "kernelspec": {
   "display_name": "Python 3",
   "language": "python",
   "name": "python3"
  },
  "language_info": {
   "codemirror_mode": {
    "name": "ipython",
    "version": 2
   },
   "file_extension": ".py",
   "mimetype": "text/x-python",
   "name": "python",
   "nbconvert_exporter": "python",
   "pygments_lexer": "ipython2",
   "version": "2.7.6"
  }
 },
 "nbformat": 4,
 "nbformat_minor": 0
}